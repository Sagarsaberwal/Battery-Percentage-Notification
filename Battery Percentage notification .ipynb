{
 "cells": [
  {
   "cell_type": "code",
   "execution_count": 2,
   "metadata": {},
   "outputs": [],
   "source": [
    "def battery_notify_function() :\n",
    "\n",
    "    from pynotifier import Notification\n",
    "    import psutil\n",
    "\n",
    "    battery = psutil.sensors_battery()\n",
    "    percent = battery.percent\n",
    "    Notification(\"Battery Percentage\",\n",
    "                 str(percent) + \"% remaining\",\n",
    "                 duration=10).send()\n",
    "\n",
    "\n",
    "if __name__ == '__main__' :\n",
    "    battery_notify_function()"
   ]
  },
  {
   "cell_type": "code",
   "execution_count": null,
   "metadata": {},
   "outputs": [],
   "source": []
  }
 ],
 "metadata": {
  "kernelspec": {
   "display_name": "Python 3",
   "language": "python",
   "name": "python3"
  },
  "language_info": {
   "codemirror_mode": {
    "name": "ipython",
    "version": 3
   },
   "file_extension": ".py",
   "mimetype": "text/x-python",
   "name": "python",
   "nbconvert_exporter": "python",
   "pygments_lexer": "ipython3",
   "version": "3.8.5"
  }
 },
 "nbformat": 4,
 "nbformat_minor": 4
}
